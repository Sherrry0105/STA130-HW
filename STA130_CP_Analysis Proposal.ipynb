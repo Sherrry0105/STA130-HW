{
 "cells": [
  {
   "cell_type": "markdown",
   "id": "74c74b4b",
   "metadata": {},
   "source": [
    "# STA130_CP_Analysis Proposal"
   ]
  },
  {
   "cell_type": "markdown",
   "id": "d4279a08",
   "metadata": {},
   "source": [
    "## Analysis Proposal 1: Relationship Between Family Interaction and Stress Levels"
   ]
  },
  {
   "cell_type": "markdown",
   "id": "e3db79ae",
   "metadata": {},
   "source": [
    "**Research Question:** \n",
    "\n",
    "Is there a relationship between the amount of family interaction during COVID-19 and reported stress levels?\n",
    "\n",
    "**Variables:** \n",
    "\n",
    "-Amount of family interaction (independent variable): Measured in hours per week or as a categorical variable (e.g., low, medium, high).\n",
    "\n",
    "-Stress level (dependent variable): Self-reported stress on a standardized scale.\n",
    "\n",
    "\n",
    "**Analysis:**\n",
    "\n",
    "-Calculate summary statistics (mean, median) for stress levels within each category of family interaction.\n",
    "\n",
    "-Use histogram to show the distribution of stress levels based on different levels of family interaction.\n",
    "\n",
    "-Use boxplot to visualize variations in stress levels for different family interaction categories.\n",
    "\n",
    "**Hypothesis:**\n",
    "\n",
    "-It is hypothesized that higher levels of family interaction would be associated with lower stress levels, indicating that family support played a role in stress mitigation during the pandemic."
   ]
  },
  {
   "cell_type": "markdown",
   "id": "3c4b36c8",
   "metadata": {},
   "source": [
    "## Analysis Proposal 2: Analysis of Social Connectedness and Sleep Quality"
   ]
  },
  {
   "cell_type": "markdown",
   "id": "514f5bcc",
   "metadata": {},
   "source": [
    "**Research Question:**\n",
    "\n",
    "Does social connectedness affect sleep quality during the COVID-19 pandemic?\n",
    "\n",
    "\n",
    "**Variables:**\n",
    "\n",
    "-Independent variable: Social connectedness score (continuous).\n",
    "\n",
    "-Dependent variable: Sleep quality score (continuous, eg: based on a scale or number of restful nights per week).\n",
    "\n",
    "**Analysis:**\n",
    "\n",
    "-Summarize the distribution of sleep quality across different ranges of social connectedness scores.\n",
    "\n",
    "-Use simple linear regression to examine the impact of social connectedness on sleep quality.\n",
    "\n",
    "-Visualized by using histogram and boxplot\n",
    "\n",
    "\n",
    "**Hypothesis:**\n",
    "\n",
    "-Higher social connectedness may correlate with better sleep quality, possibly due to reduced stress and increased emotional support."
   ]
  },
  {
   "cell_type": "markdown",
   "id": "9c7f5e33",
   "metadata": {},
   "source": [
    "## Analysis Proposal 3: Impact of COVID-19 on Mental Health"
   ]
  },
  {
   "cell_type": "markdown",
   "id": "69cbe16e",
   "metadata": {},
   "source": [
    "**Research Question:**\n",
    "\n",
    "How has the COVID-19 pandemic affected self-reported mental health scores?\n",
    "\n",
    "\n",
    "**Variables:**\n",
    "\n",
    "-Independent variable: COVID-19 anxiety score (continuous variable).\n",
    "\n",
    "-Dependent variable: Mental health score (continuous variable). variable): A self-reported measure of mental health or wellness.\n",
    "\n",
    "\n",
    "**Analysis:**\n",
    "\n",
    "-Simple Linear Regression: Use a basic linear regression model where the mental health score is regressed on the COVID-19 anxiety score.\n",
    "\n",
    "-Equation: Mental Health Score = 𝛽0 + 𝛽1 × COVID-19 Anxiety Score + ϵ\n",
    "\n",
    "\n",
    "**Assumption:**\n",
    "\n",
    "-Linearity: The relationship between COVID-19 anxiety and mental health should be linear.\n",
    "\n",
    "-Independence: Observations should be independent of each other.\n",
    "\n",
    "-Homoscedasticity: The variance of residuals should remain constant.\n",
    "\n",
    "-Normality: Residuals should follow a normal distribution.\n",
    "\n",
    "\n",
    "**Hypothesis:**\n",
    "\n",
    "-Null hypothesis: COVID-19 anxiety has no effect on mental health scores (𝛽1 = 0)\n",
    "\n",
    "-Alternative hypothesis (H1): COVID-19 anxiety has an effect on mental health scores (𝛽1 not equal to 0)"
   ]
  }
 ],
 "metadata": {
  "kernelspec": {
   "display_name": "Python 3 (ipykernel)",
   "language": "python",
   "name": "python3"
  },
  "language_info": {
   "codemirror_mode": {
    "name": "ipython",
    "version": 3
   },
   "file_extension": ".py",
   "mimetype": "text/x-python",
   "name": "python",
   "nbconvert_exporter": "python",
   "pygments_lexer": "ipython3",
   "version": "3.11.6"
  }
 },
 "nbformat": 4,
 "nbformat_minor": 5
}
